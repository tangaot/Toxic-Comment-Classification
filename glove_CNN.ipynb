{
 "cells": [
  {
   "cell_type": "code",
   "execution_count": 1,
   "metadata": {
    "executionInfo": {
     "elapsed": 2946,
     "status": "ok",
     "timestamp": 1607431737163,
     "user": {
      "displayName": "Ao Tang",
      "photoUrl": "https://lh3.googleusercontent.com/a-/AOh14Gh6bLyX1V4WDX9RjRii4yPitLCVcA5tLOwY9lI3Lw=s64",
      "userId": "09858036960530232019"
     },
     "user_tz": 480
    },
    "id": "1GqahaBq1p0R"
   },
   "outputs": [],
   "source": [
    "import pandas as pd\n",
    "import numpy as np\n",
    "import matplotlib.pyplot as plt\n",
    "%matplotlib inline\n",
    "%precision %.2f\n",
    "%tensorflow_version 2.x\n",
    "import re\n",
    "from sklearn.model_selection import train_test_split\n",
    "from tensorflow.python.pywrap_tensorflow_internal import *\n",
    "from keras.preprocessing.text import Tokenizer\n",
    "from keras.preprocessing.sequence import pad_sequences\n",
    "from keras.utils import to_categorical\n",
    "\n",
    "from keras.layers import Embedding\n",
    "\n",
    "from keras.layers import Dense, Input, GlobalMaxPooling1D\n",
    "from keras.layers import Conv1D, MaxPooling1D, Embedding\n",
    "from keras.models import Model\n",
    "from keras.layers import Input, Dense, Embedding, Conv2D, MaxPooling2D, Dropout,concatenate\n",
    "from keras.layers.core import Reshape, Flatten\n",
    "from keras.callbacks import EarlyStopping\n",
    "from keras.optimizers import SGD, RMSprop, Adagrad, Adadelta, Adam, Adamax, Nadam\n",
    "from keras.models import Model\n",
    "from keras import regularizers\n",
    "\n",
    "import gensim\n",
    "from gensim.models import Word2Vec\n",
    "from gensim.utils import simple_preprocess\n",
    "\n",
    "from gensim.models.keyedvectors import KeyedVectors"
   ]
  },
  {
   "cell_type": "code",
   "execution_count": 2,
   "metadata": {
    "colab": {
     "base_uri": "https://localhost:8080/"
    },
    "executionInfo": {
     "elapsed": 21180,
     "status": "ok",
     "timestamp": 1607431755409,
     "user": {
      "displayName": "Ao Tang",
      "photoUrl": "https://lh3.googleusercontent.com/a-/AOh14Gh6bLyX1V4WDX9RjRii4yPitLCVcA5tLOwY9lI3Lw=s64",
      "userId": "09858036960530232019"
     },
     "user_tz": 480
    },
    "id": "gdnJXhTw12F1",
    "outputId": "303e0498-4d31-4bed-b636-8485e74046d1"
   },
   "outputs": [
    {
     "name": "stdout",
     "output_type": "stream",
     "text": [
      "Mounted at /content/drive\n"
     ]
    }
   ],
   "source": [
    "from google.colab import drive\n",
    "drive.mount('/content/drive')"
   ]
  },
  {
   "cell_type": "code",
   "execution_count": 3,
   "metadata": {
    "executionInfo": {
     "elapsed": 4847,
     "status": "ok",
     "timestamp": 1607431760259,
     "user": {
      "displayName": "Ao Tang",
      "photoUrl": "https://lh3.googleusercontent.com/a-/AOh14Gh6bLyX1V4WDX9RjRii4yPitLCVcA5tLOwY9lI3Lw=s64",
      "userId": "09858036960530232019"
     },
     "user_tz": 480
    },
    "id": "K8q9kKiA2IdG"
   },
   "outputs": [],
   "source": [
    "train = pd.read_csv('/content/drive/MyDrive/cmpt413/project/nlpclass-1207-g-outputerror-master-project/project/processed_data/train_translated_cleaned.csv')\n",
    "test = pd.read_csv('/content/drive/MyDrive/cmpt413/project/nlpclass-1207-g-outputerror-master-project/project/processed_data/test_translated_cleaned.csv')\n",
    "test_y = pd.read_csv(\"/content/drive/MyDrive/cmpt413/project/nlpclass-1207-g-outputerror-master-project/project/processed_data/test_labels_cleaned.csv\")"
   ]
  },
  {
   "cell_type": "code",
   "execution_count": 4,
   "metadata": {
    "executionInfo": {
     "elapsed": 4843,
     "status": "ok",
     "timestamp": 1607431760260,
     "user": {
      "displayName": "Ao Tang",
      "photoUrl": "https://lh3.googleusercontent.com/a-/AOh14Gh6bLyX1V4WDX9RjRii4yPitLCVcA5tLOwY9lI3Lw=s64",
      "userId": "09858036960530232019"
     },
     "user_tz": 480
    },
    "id": "W_zYhq222su1"
   },
   "outputs": [],
   "source": [
    "train['comment_text'] = train['comment_text'].apply(lambda x: np.str_(x))\n",
    "test['comment_text'] = test['comment_text'].apply(lambda x: np.str_(x))\n",
    "\n",
    "#split 20% of train as validation set\n",
    "X = train.iloc[:,1]\n",
    "y = train.iloc[:,2:]\n",
    "\n",
    "X_train, X_validation, y_train, y_validation = train_test_split(X, y, test_size=0.2, random_state=123)"
   ]
  },
  {
   "cell_type": "code",
   "execution_count": 5,
   "metadata": {
    "colab": {
     "base_uri": "https://localhost:8080/"
    },
    "executionInfo": {
     "elapsed": 40048,
     "status": "ok",
     "timestamp": 1607431795492,
     "user": {
      "displayName": "Ao Tang",
      "photoUrl": "https://lh3.googleusercontent.com/a-/AOh14Gh6bLyX1V4WDX9RjRii4yPitLCVcA5tLOwY9lI3Lw=s64",
      "userId": "09858036960530232019"
     },
     "user_tz": 480
    },
    "id": "jEsePP-I2xAn",
    "outputId": "ed4c61f3-afc7-40c9-d519-e07cee4d59a4"
   },
   "outputs": [
    {
     "name": "stdout",
     "output_type": "stream",
     "text": [
      "Loaded 400000 word vectors.\n"
     ]
    }
   ],
   "source": [
    "word_vectors = dict()\n",
    "\n",
    "# load the whole embedding into memory\n",
    "f = open('/content/drive/MyDrive/cmpt413/project/nlpclass-1207-g-outputerror-master-project/project/original_data/reference_data/glove.6B.300d.txt', encoding=\"utf8\")\n",
    "for line in f:\n",
    "    values = line.split()\n",
    "    word = values[0]\n",
    "    coefs = np.asarray(values[1:], dtype='float32')\n",
    "    word_vectors[word] = coefs\n",
    "f.close()\n",
    "print('Loaded %s word vectors.' % len(word_vectors))"
   ]
  },
  {
   "cell_type": "code",
   "execution_count": 6,
   "metadata": {
    "executionInfo": {
     "elapsed": 39004,
     "status": "ok",
     "timestamp": 1607431795685,
     "user": {
      "displayName": "Ao Tang",
      "photoUrl": "https://lh3.googleusercontent.com/a-/AOh14Gh6bLyX1V4WDX9RjRii4yPitLCVcA5tLOwY9lI3Lw=s64",
      "userId": "09858036960530232019"
     },
     "user_tz": 480
    },
    "id": "_R4EPgn123TZ"
   },
   "outputs": [],
   "source": [
    "# Adding list of Bad words to tokanizer\n",
    "bad_words = pd.read_csv(\"/content/drive/MyDrive/cmpt413/project/nlpclass-1207-g-outputerror-master-project/project/original_data/reference_data/bad_words.csv\")\n",
    "bad_words =  list(bad_words.bad_words.values)"
   ]
  },
  {
   "cell_type": "code",
   "execution_count": 7,
   "metadata": {
    "colab": {
     "base_uri": "https://localhost:8080/"
    },
    "executionInfo": {
     "elapsed": 42204,
     "status": "ok",
     "timestamp": 1607431799572,
     "user": {
      "displayName": "Ao Tang",
      "photoUrl": "https://lh3.googleusercontent.com/a-/AOh14Gh6bLyX1V4WDX9RjRii4yPitLCVcA5tLOwY9lI3Lw=s64",
      "userId": "09858036960530232019"
     },
     "user_tz": 480
    },
    "id": "d8v39ZYg26uH",
    "outputId": "28432b04-74fc-4d09-aa17-8c126ae4a821"
   },
   "outputs": [
    {
     "name": "stdout",
     "output_type": "stream",
     "text": [
      "Found 137136 unique tokens.\n"
     ]
    }
   ],
   "source": [
    "# Set Maximum number of words to be embedded\n",
    "NUM_WORDS = 20000\n",
    "\n",
    "# Define/Load Tokenize text function\n",
    "tokenizer = Tokenizer(num_words=NUM_WORDS,filters='!\"#$%&()*+,-./:;<=>?@[\\\\]^_`{|}~\\t\\n\\'')\n",
    "\n",
    "# Fit the function on the text\n",
    "tokenizer.fit_on_texts(X_train)\n",
    "\n",
    "# Count number of unique tokens\n",
    "word_index = tokenizer.word_index\n",
    "print('Found %s unique tokens.' % len(word_index))"
   ]
  },
  {
   "cell_type": "code",
   "execution_count": 8,
   "metadata": {
    "executionInfo": {
     "elapsed": 41136,
     "status": "ok",
     "timestamp": 1607431799744,
     "user": {
      "displayName": "Ao Tang",
      "photoUrl": "https://lh3.googleusercontent.com/a-/AOh14Gh6bLyX1V4WDX9RjRii4yPitLCVcA5tLOwY9lI3Lw=s64",
      "userId": "09858036960530232019"
     },
     "user_tz": 480
    },
    "id": "lQBJrq2A2-4D"
   },
   "outputs": [],
   "source": [
    "# Adding list of bad words to tokanizer\n",
    "n = 0\n",
    "temp_bw = bad_words\n",
    "for word, i in word_index.items():\n",
    "    if word in bad_words:\n",
    "        temp_bw.remove(word)\n",
    "        n = n+1\n",
    "    if i > (NUM_WORDS-len(bad_words)+n):\n",
    "        for bw in temp_bw:\n",
    "            tokenizer.word_index[bw] = i\n",
    "            i=i+1\n",
    "        break    "
   ]
  },
  {
   "cell_type": "code",
   "execution_count": 9,
   "metadata": {
    "executionInfo": {
     "elapsed": 44162,
     "status": "ok",
     "timestamp": 1607431803380,
     "user": {
      "displayName": "Ao Tang",
      "photoUrl": "https://lh3.googleusercontent.com/a-/AOh14Gh6bLyX1V4WDX9RjRii4yPitLCVcA5tLOwY9lI3Lw=s64",
      "userId": "09858036960530232019"
     },
     "user_tz": 480
    },
    "id": "Xa_TqLmO2_em"
   },
   "outputs": [],
   "source": [
    "# Convert train and val to sequence\n",
    "sequences_train = tokenizer.texts_to_sequences(X_train)\n",
    "sequences_validation = tokenizer.texts_to_sequences(X_validation)"
   ]
  },
  {
   "cell_type": "code",
   "execution_count": 10,
   "metadata": {
    "colab": {
     "base_uri": "https://localhost:8080/"
    },
    "executionInfo": {
     "elapsed": 44241,
     "status": "ok",
     "timestamp": 1607431804171,
     "user": {
      "displayName": "Ao Tang",
      "photoUrl": "https://lh3.googleusercontent.com/a-/AOh14Gh6bLyX1V4WDX9RjRii4yPitLCVcA5tLOwY9lI3Lw=s64",
      "userId": "09858036960530232019"
     },
     "user_tz": 480
    },
    "id": "Xa53RLhG3Au3",
    "outputId": "daef8ff2-6c3d-40d9-a805-28cb092d2fd9"
   },
   "outputs": [
    {
     "name": "stdout",
     "output_type": "stream",
     "text": [
      "Shape of X train and X validation tensor: (127656, 50) (31915, 50)\n",
      "Shape of label train and validation tensor: (127656, 6) (31915, 6)\n"
     ]
    }
   ],
   "source": [
    "# Limit size of train/val to 50 and pad the sequence\n",
    "X_train = pad_sequences(sequences_train,maxlen=50)\n",
    "X_validation = pad_sequences(sequences_validation,maxlen=X_train.shape[1])\n",
    "\n",
    "# Convert target to array\n",
    "y_train = np.asarray(y_train)\n",
    "y_validation = np.asarray(y_validation)\n",
    "\n",
    "# Printing shape\n",
    "print('Shape of X train and X validation tensor:', X_train.shape,X_validation.shape)\n",
    "print('Shape of label train and validation tensor:', y_train.shape,y_validation.shape)\n"
   ]
  },
  {
   "cell_type": "code",
   "execution_count": 11,
   "metadata": {
    "executionInfo": {
     "elapsed": 42791,
     "status": "ok",
     "timestamp": 1607431804171,
     "user": {
      "displayName": "Ao Tang",
      "photoUrl": "https://lh3.googleusercontent.com/a-/AOh14Gh6bLyX1V4WDX9RjRii4yPitLCVcA5tLOwY9lI3Lw=s64",
      "userId": "09858036960530232019"
     },
     "user_tz": 480
    },
    "id": "d-U4LB5g3Cf8"
   },
   "outputs": [],
   "source": [
    "EMBEDDING_DIM=300\n",
    "vocabulary_size=min(len(word_index)+1,(NUM_WORDS))\n",
    "\n",
    "embedding_matrix = np.zeros((vocabulary_size, EMBEDDING_DIM))\n",
    "\n",
    "\n",
    "for word, i in word_index.items():\n",
    "    if i>=NUM_WORDS:\n",
    "        continue\n",
    "    try:\n",
    "        embedding_vector = word_vectors[word]\n",
    "        embedding_matrix[i] = embedding_vector\n",
    "    except KeyError:\n",
    "        vec = np.zeros(EMBEDDING_DIM)\n",
    "        if word in bad_words:\n",
    "            vec = word_vectors['fuck']\n",
    "        embedding_matrix[i]=vec"
   ]
  },
  {
   "cell_type": "code",
   "execution_count": 12,
   "metadata": {
    "executionInfo": {
     "elapsed": 41797,
     "status": "ok",
     "timestamp": 1607431804884,
     "user": {
      "displayName": "Ao Tang",
      "photoUrl": "https://lh3.googleusercontent.com/a-/AOh14Gh6bLyX1V4WDX9RjRii4yPitLCVcA5tLOwY9lI3Lw=s64",
      "userId": "09858036960530232019"
     },
     "user_tz": 480
    },
    "id": "vxURfvJH3DFv"
   },
   "outputs": [],
   "source": [
    "del(word_vectors)"
   ]
  },
  {
   "cell_type": "code",
   "execution_count": 13,
   "metadata": {
    "executionInfo": {
     "elapsed": 41377,
     "status": "ok",
     "timestamp": 1607431804885,
     "user": {
      "displayName": "Ao Tang",
      "photoUrl": "https://lh3.googleusercontent.com/a-/AOh14Gh6bLyX1V4WDX9RjRii4yPitLCVcA5tLOwY9lI3Lw=s64",
      "userId": "09858036960530232019"
     },
     "user_tz": 480
    },
    "id": "MB6axt4y3ElV"
   },
   "outputs": [],
   "source": [
    "# Dfine Embedding function using the embedding_matrix\n",
    "embedding_layer = Embedding(vocabulary_size,\n",
    "                            EMBEDDING_DIM,\n",
    "                            weights=[embedding_matrix],\n",
    "                            trainable=True)\n",
    "del(embedding_matrix)"
   ]
  },
  {
   "cell_type": "code",
   "execution_count": 14,
   "metadata": {
    "executionInfo": {
     "elapsed": 6019,
     "status": "ok",
     "timestamp": 1607431810908,
     "user": {
      "displayName": "Ao Tang",
      "photoUrl": "https://lh3.googleusercontent.com/a-/AOh14Gh6bLyX1V4WDX9RjRii4yPitLCVcA5tLOwY9lI3Lw=s64",
      "userId": "09858036960530232019"
     },
     "user_tz": 480
    },
    "id": "RcU8xnOs3G-R"
   },
   "outputs": [],
   "source": [
    "sequence_length = X_train.shape[1]\n",
    "filter_sizes = [3,4]\n",
    "num_filters = 100\n",
    "drop = 0.4\n",
    "\n",
    "inputs = Input(shape=(sequence_length,))\n",
    "embedding = embedding_layer(inputs)\n",
    "reshape = Reshape((sequence_length,EMBEDDING_DIM,1))(embedding)\n",
    "\n",
    "conv_0 = Conv2D(num_filters, (filter_sizes[0], EMBEDDING_DIM),activation='relu',kernel_regularizer=regularizers.l2(0.01))(reshape)\n",
    "conv_1 = Conv2D(num_filters, (filter_sizes[1], EMBEDDING_DIM),activation='relu',kernel_regularizer=regularizers.l2(0.01))(reshape)\n",
    "\n",
    "maxpool_0 = MaxPooling2D((sequence_length - filter_sizes[0] + 1, 1), strides=(1,1))(conv_0)\n",
    "maxpool_1 = MaxPooling2D((sequence_length - filter_sizes[1] + 1, 1), strides=(1,1))(conv_1)\n",
    "\n",
    "merged_tensor = concatenate([maxpool_0, maxpool_1], axis=1)\n",
    "flatten = Flatten()(merged_tensor)\n",
    "reshape = Reshape((2*num_filters,))(flatten)\n",
    "dropout = Dropout(drop)(flatten)\n",
    "conc = Dense(40)(dropout)\n",
    "output = Dense(units=6, activation='sigmoid',kernel_regularizer=regularizers.l2(0.01))(conc)\n",
    "\n",
    "# this creates a model that includes\n",
    "model = Model(inputs, output)"
   ]
  },
  {
   "cell_type": "code",
   "execution_count": 15,
   "metadata": {
    "colab": {
     "base_uri": "https://localhost:8080/"
    },
    "executionInfo": {
     "elapsed": 250650,
     "status": "ok",
     "timestamp": 1607432055553,
     "user": {
      "displayName": "Ao Tang",
      "photoUrl": "https://lh3.googleusercontent.com/a-/AOh14Gh6bLyX1V4WDX9RjRii4yPitLCVcA5tLOwY9lI3Lw=s64",
      "userId": "09858036960530232019"
     },
     "user_tz": 480
    },
    "id": "w8fBZzLr3KWc",
    "outputId": "d62bdfce-f1f6-4aee-a5a2-d22a5cf2d6c1"
   },
   "outputs": [
    {
     "name": "stdout",
     "output_type": "stream",
     "text": [
      "Epoch 1/50\n",
      "320/320 - 30s - loss: 0.1616 - val_loss: 0.0964\n",
      "Epoch 2/50\n",
      "320/320 - 30s - loss: 0.0898 - val_loss: 0.0798\n",
      "Epoch 3/50\n",
      "320/320 - 29s - loss: 0.0801 - val_loss: 0.0760\n",
      "Epoch 4/50\n",
      "320/320 - 29s - loss: 0.0760 - val_loss: 0.0752\n",
      "Epoch 5/50\n",
      "320/320 - 29s - loss: 0.0741 - val_loss: 0.0749\n",
      "Epoch 6/50\n",
      "320/320 - 30s - loss: 0.0711 - val_loss: 0.0720\n",
      "Epoch 7/50\n",
      "320/320 - 29s - loss: 0.0699 - val_loss: 0.0720\n",
      "Epoch 8/50\n",
      "320/320 - 29s - loss: 0.0684 - val_loss: 0.0732\n"
     ]
    }
   ],
   "source": [
    "# Compiling Model using optimizer\n",
    "opt = Adam(lr=1e-3)\n",
    "model.compile(loss='binary_crossentropy',optimizer=opt)\n",
    "\n",
    "# Fitting Model to the data\n",
    "callbacks = [EarlyStopping(monitor='val_loss')]\n",
    "hist_adam = model.fit(X_train, y_train, batch_size=400, epochs=50, verbose=2,\n",
    "                      validation_data=(X_validation, y_validation),callbacks=callbacks)"
   ]
  },
  {
   "cell_type": "code",
   "execution_count": 16,
   "metadata": {
    "colab": {
     "base_uri": "https://localhost:8080/",
     "height": 330
    },
    "executionInfo": {
     "elapsed": 250852,
     "status": "ok",
     "timestamp": 1607432055764,
     "user": {
      "displayName": "Ao Tang",
      "photoUrl": "https://lh3.googleusercontent.com/a-/AOh14Gh6bLyX1V4WDX9RjRii4yPitLCVcA5tLOwY9lI3Lw=s64",
      "userId": "09858036960530232019"
     },
     "user_tz": 480
    },
    "id": "B9C9-B0m3LUb",
    "outputId": "1cf77c13-6c43-4f3a-9609-7b3138f35e16"
   },
   "outputs": [
    {
     "data": {
      "text/plain": [
       "<matplotlib.legend.Legend at 0x7f20e20d46d8>"
      ]
     },
     "execution_count": 16,
     "metadata": {
      "tags": []
     },
     "output_type": "execute_result"
    },
    {
     "data": {
      "image/png": "[encoded data removed]",
      "text/plain": [
       "<Figure size 432x288 with 1 Axes>"
      ]
     },
     "metadata": {
      "needs_background": "light",
      "tags": []
     },
     "output_type": "display_data"
    }
   ],
   "source": [
    "#plotting Loss\n",
    "plt.suptitle('Optimizer : Adam', fontsize=10)\n",
    "plt.ylabel('Loss', fontsize=16)\n",
    "plt.xlabel('Epoch', fontsize=14)\n",
    "plt.ylim(0.05, 0.17)\n",
    "plt.plot(hist_adam.history['loss'], color='b', label='Training Loss')\n",
    "plt.plot(hist_adam.history['val_loss'], color='r', label='Validation Loss')\n",
    "plt.legend(loc='upper right')"
   ]
  },
  {
   "cell_type": "code",
   "execution_count": 17,
   "metadata": {
    "colab": {
     "base_uri": "https://localhost:8080/"
    },
    "executionInfo": {
     "elapsed": 493624,
     "status": "ok",
     "timestamp": 1607432550075,
     "user": {
      "displayName": "Ao Tang",
      "photoUrl": "https://lh3.googleusercontent.com/a-/AOh14Gh6bLyX1V4WDX9RjRii4yPitLCVcA5tLOwY9lI3Lw=s64",
      "userId": "09858036960530232019"
     },
     "user_tz": 480
    },
    "id": "_nycd_W43O4A",
    "outputId": "e7d6b0b0-ed50-432b-c44f-bc938578e711"
   },
   "outputs": [
    {
     "name": "stdout",
     "output_type": "stream",
     "text": [
      "Epoch 1/50\n",
      "320/320 - 10s - loss: 0.2050 - val_loss: 0.1374\n",
      "Epoch 2/50\n",
      "320/320 - 10s - loss: 0.1169 - val_loss: 0.1044\n",
      "Epoch 3/50\n",
      "320/320 - 10s - loss: 0.0963 - val_loss: 0.0931\n",
      "Epoch 4/50\n",
      "320/320 - 10s - loss: 0.0883 - val_loss: 0.0883\n",
      "Epoch 5/50\n",
      "320/320 - 10s - loss: 0.0843 - val_loss: 0.0852\n",
      "Epoch 6/50\n",
      "320/320 - 10s - loss: 0.0818 - val_loss: 0.0833\n",
      "Epoch 7/50\n",
      "320/320 - 10s - loss: 0.0799 - val_loss: 0.0818\n",
      "Epoch 8/50\n",
      "320/320 - 10s - loss: 0.0784 - val_loss: 0.0806\n",
      "Epoch 9/50\n",
      "320/320 - 10s - loss: 0.0770 - val_loss: 0.0796\n",
      "Epoch 10/50\n",
      "320/320 - 10s - loss: 0.0761 - val_loss: 0.0787\n",
      "Epoch 11/50\n",
      "320/320 - 10s - loss: 0.0752 - val_loss: 0.0779\n",
      "Epoch 12/50\n",
      "320/320 - 10s - loss: 0.0744 - val_loss: 0.0774\n",
      "Epoch 13/50\n",
      "320/320 - 10s - loss: 0.0738 - val_loss: 0.0767\n",
      "Epoch 14/50\n",
      "320/320 - 10s - loss: 0.0729 - val_loss: 0.0761\n",
      "Epoch 15/50\n",
      "320/320 - 10s - loss: 0.0725 - val_loss: 0.0757\n",
      "Epoch 16/50\n",
      "320/320 - 10s - loss: 0.0720 - val_loss: 0.0752\n",
      "Epoch 17/50\n",
      "320/320 - 10s - loss: 0.0714 - val_loss: 0.0749\n",
      "Epoch 18/50\n",
      "320/320 - 10s - loss: 0.0711 - val_loss: 0.0747\n",
      "Epoch 19/50\n",
      "320/320 - 10s - loss: 0.0706 - val_loss: 0.0742\n",
      "Epoch 20/50\n",
      "320/320 - 10s - loss: 0.0703 - val_loss: 0.0738\n",
      "Epoch 21/50\n",
      "320/320 - 10s - loss: 0.0699 - val_loss: 0.0735\n",
      "Epoch 22/50\n",
      "320/320 - 10s - loss: 0.0696 - val_loss: 0.0733\n",
      "Epoch 23/50\n",
      "320/320 - 10s - loss: 0.0693 - val_loss: 0.0730\n",
      "Epoch 24/50\n",
      "320/320 - 10s - loss: 0.0691 - val_loss: 0.0729\n",
      "Epoch 25/50\n",
      "320/320 - 10s - loss: 0.0687 - val_loss: 0.0725\n",
      "Epoch 26/50\n",
      "320/320 - 10s - loss: 0.0685 - val_loss: 0.0723\n",
      "Epoch 27/50\n",
      "320/320 - 10s - loss: 0.0682 - val_loss: 0.0722\n",
      "Epoch 28/50\n",
      "320/320 - 10s - loss: 0.0681 - val_loss: 0.0719\n",
      "Epoch 29/50\n",
      "320/320 - 10s - loss: 0.0678 - val_loss: 0.0718\n",
      "Epoch 30/50\n",
      "320/320 - 10s - loss: 0.0678 - val_loss: 0.0716\n",
      "Epoch 31/50\n",
      "320/320 - 10s - loss: 0.0675 - val_loss: 0.0715\n",
      "Epoch 32/50\n",
      "320/320 - 10s - loss: 0.0674 - val_loss: 0.0713\n",
      "Epoch 33/50\n",
      "320/320 - 10s - loss: 0.0672 - val_loss: 0.0711\n",
      "Epoch 34/50\n",
      "320/320 - 10s - loss: 0.0669 - val_loss: 0.0710\n",
      "Epoch 35/50\n",
      "320/320 - 10s - loss: 0.0667 - val_loss: 0.0709\n",
      "Epoch 36/50\n",
      "320/320 - 10s - loss: 0.0668 - val_loss: 0.0708\n",
      "Epoch 37/50\n",
      "320/320 - 10s - loss: 0.0665 - val_loss: 0.0706\n",
      "Epoch 38/50\n",
      "320/320 - 10s - loss: 0.0664 - val_loss: 0.0705\n",
      "Epoch 39/50\n",
      "320/320 - 10s - loss: 0.0664 - val_loss: 0.0704\n",
      "Epoch 40/50\n",
      "320/320 - 10s - loss: 0.0663 - val_loss: 0.0704\n",
      "Epoch 41/50\n",
      "320/320 - 10s - loss: 0.0659 - val_loss: 0.0702\n",
      "Epoch 42/50\n",
      "320/320 - 10s - loss: 0.0660 - val_loss: 0.0702\n",
      "Epoch 43/50\n",
      "320/320 - 10s - loss: 0.0659 - val_loss: 0.0700\n",
      "Epoch 44/50\n",
      "320/320 - 10s - loss: 0.0657 - val_loss: 0.0699\n",
      "Epoch 45/50\n",
      "320/320 - 10s - loss: 0.0655 - val_loss: 0.0698\n",
      "Epoch 46/50\n",
      "320/320 - 10s - loss: 0.0654 - val_loss: 0.0698\n",
      "Epoch 47/50\n",
      "320/320 - 10s - loss: 0.0654 - val_loss: 0.0697\n",
      "Epoch 48/50\n",
      "320/320 - 10s - loss: 0.0652 - val_loss: 0.0696\n",
      "Epoch 49/50\n",
      "320/320 - 10s - loss: 0.0654 - val_loss: 0.0695\n",
      "Epoch 50/50\n",
      "320/320 - 10s - loss: 0.0652 - val_loss: 0.0694\n"
     ]
    }
   ],
   "source": [
    "sequence_length = X_train.shape[1]\n",
    "filter_sizes = [3,4]\n",
    "num_filters = 100\n",
    "drop = 0.4\n",
    "\n",
    "inputs = Input(shape=(sequence_length,))\n",
    "embedding = embedding_layer(inputs)\n",
    "reshape = Reshape((sequence_length,EMBEDDING_DIM,1))(embedding)\n",
    "\n",
    "conv_0 = Conv2D(num_filters, (filter_sizes[0], EMBEDDING_DIM),activation='relu',kernel_regularizer=regularizers.l2(0.01))(reshape)\n",
    "conv_1 = Conv2D(num_filters, (filter_sizes[1], EMBEDDING_DIM),activation='relu',kernel_regularizer=regularizers.l2(0.01))(reshape)\n",
    "\n",
    "maxpool_0 = MaxPooling2D((sequence_length - filter_sizes[0] + 1, 1), strides=(1,1))(conv_0)\n",
    "maxpool_1 = MaxPooling2D((sequence_length - filter_sizes[1] + 1, 1), strides=(1,1))(conv_1)\n",
    "\n",
    "merged_tensor = concatenate([maxpool_0, maxpool_1], axis=1)\n",
    "flatten = Flatten()(merged_tensor)\n",
    "reshape = Reshape((2*num_filters,))(flatten)\n",
    "dropout = Dropout(drop)(flatten)\n",
    "conc = Dense(40)(dropout)\n",
    "output = Dense(units=6, activation='sigmoid',kernel_regularizer=regularizers.l2(0.01))(conc)\n",
    "\n",
    "# this creates a model that includes\n",
    "model = Model(inputs, output)\n",
    "\n",
    "# Compiling Model using optimizer\n",
    "opt = SGD(lr=0.01, momentum=0.9, decay=0.0001)\n",
    "model.compile(loss='binary_crossentropy',optimizer=opt)\n",
    "\n",
    "# Fitting Model to the data\n",
    "callbacks = [EarlyStopping(monitor='val_loss')]\n",
    "hist_sgd = model.fit(X_train, y_train, batch_size=400, epochs=50, verbose=2, \n",
    "                     validation_data=(X_validation, y_validation),callbacks=callbacks)"
   ]
  },
  {
   "cell_type": "code",
   "execution_count": 18,
   "metadata": {
    "colab": {
     "base_uri": "https://localhost:8080/",
     "height": 330
    },
    "executionInfo": {
     "elapsed": 493815,
     "status": "ok",
     "timestamp": 1607432550287,
     "user": {
      "displayName": "Ao Tang",
      "photoUrl": "https://lh3.googleusercontent.com/a-/AOh14Gh6bLyX1V4WDX9RjRii4yPitLCVcA5tLOwY9lI3Lw=s64",
      "userId": "09858036960530232019"
     },
     "user_tz": 480
    },
    "id": "pmpY51JZ3Rai",
    "outputId": "bb9eb521-cb43-4ada-b4b5-09425927ad91"
   },
   "outputs": [
    {
     "data": {
      "text/plain": [
       "<matplotlib.legend.Legend at 0x7f20e194a0f0>"
      ]
     },
     "execution_count": 18,
     "metadata": {
      "tags": []
     },
     "output_type": "execute_result"
    },
    {
     "data": {
      "image/png": "[encoded data removed]",
      "text/plain": [
       "<Figure size 432x288 with 1 Axes>"
      ]
     },
     "metadata": {
      "needs_background": "light",
      "tags": []
     },
     "output_type": "display_data"
    }
   ],
   "source": [
    "#plotting Loss\n",
    "plt.suptitle('Optimizer : SGD', fontsize=10)\n",
    "plt.ylabel('Loss', fontsize=16)\n",
    "plt.xlabel('Epoch', fontsize=14)\n",
    "#plt.ylim(0.05, 0.17)\n",
    "plt.plot(hist_sgd.history['loss'], color='b', label='Training Loss')\n",
    "plt.plot(hist_sgd.history['val_loss'], color='r', label='Validation Loss')\n",
    "plt.legend(loc='upper right')"
   ]
  },
  {
   "cell_type": "code",
   "execution_count": 19,
   "metadata": {
    "colab": {
     "base_uri": "https://localhost:8080/"
    },
    "executionInfo": {
     "elapsed": 1474972,
     "status": "ok",
     "timestamp": 1607433531458,
     "user": {
      "displayName": "Ao Tang",
      "photoUrl": "https://lh3.googleusercontent.com/a-/AOh14Gh6bLyX1V4WDX9RjRii4yPitLCVcA5tLOwY9lI3Lw=s64",
      "userId": "09858036960530232019"
     },
     "user_tz": 480
    },
    "id": "hJmnZ6HE3R9u",
    "outputId": "35a8a292-612a-4a42-e0b4-41b3c55decc7"
   },
   "outputs": [
    {
     "name": "stdout",
     "output_type": "stream",
     "text": [
      "Epoch 1/100\n",
      "128/128 - 10s - loss: 0.8054 - val_loss: 0.7821\n",
      "Epoch 2/100\n",
      "128/128 - 10s - loss: 0.7634 - val_loss: 0.7400\n",
      "Epoch 3/100\n",
      "128/128 - 10s - loss: 0.7217 - val_loss: 0.6984\n",
      "Epoch 4/100\n",
      "128/128 - 10s - loss: 0.6808 - val_loss: 0.6576\n",
      "Epoch 5/100\n",
      "128/128 - 10s - loss: 0.6410 - val_loss: 0.6180\n",
      "Epoch 6/100\n",
      "128/128 - 10s - loss: 0.6027 - val_loss: 0.5802\n",
      "Epoch 7/100\n",
      "128/128 - 10s - loss: 0.5666 - val_loss: 0.5447\n",
      "Epoch 8/100\n",
      "128/128 - 10s - loss: 0.5327 - val_loss: 0.5116\n",
      "Epoch 9/100\n",
      "128/128 - 10s - loss: 0.5014 - val_loss: 0.4813\n",
      "Epoch 10/100\n",
      "128/128 - 10s - loss: 0.4731 - val_loss: 0.4539\n",
      "Epoch 11/100\n",
      "128/128 - 10s - loss: 0.4474 - val_loss: 0.4294\n",
      "Epoch 12/100\n",
      "128/128 - 10s - loss: 0.4245 - val_loss: 0.4077\n",
      "Epoch 13/100\n",
      "128/128 - 10s - loss: 0.4044 - val_loss: 0.3887\n",
      "Epoch 14/100\n",
      "128/128 - 10s - loss: 0.3867 - val_loss: 0.3721\n",
      "Epoch 15/100\n",
      "128/128 - 10s - loss: 0.3713 - val_loss: 0.3576\n",
      "Epoch 16/100\n",
      "128/128 - 10s - loss: 0.3576 - val_loss: 0.3451\n",
      "Epoch 17/100\n",
      "128/128 - 10s - loss: 0.3458 - val_loss: 0.3342\n",
      "Epoch 18/100\n",
      "128/128 - 10s - loss: 0.3357 - val_loss: 0.3248\n",
      "Epoch 19/100\n",
      "128/128 - 10s - loss: 0.3265 - val_loss: 0.3167\n",
      "Epoch 20/100\n",
      "128/128 - 10s - loss: 0.3189 - val_loss: 0.3096\n",
      "Epoch 21/100\n",
      "128/128 - 10s - loss: 0.3120 - val_loss: 0.3034\n",
      "Epoch 22/100\n",
      "128/128 - 10s - loss: 0.3061 - val_loss: 0.2980\n",
      "Epoch 23/100\n",
      "128/128 - 10s - loss: 0.3008 - val_loss: 0.2933\n",
      "Epoch 24/100\n",
      "128/128 - 10s - loss: 0.2961 - val_loss: 0.2890\n",
      "Epoch 25/100\n",
      "128/128 - 10s - loss: 0.2918 - val_loss: 0.2853\n",
      "Epoch 26/100\n",
      "128/128 - 10s - loss: 0.2883 - val_loss: 0.2819\n",
      "Epoch 27/100\n",
      "128/128 - 10s - loss: 0.2848 - val_loss: 0.2789\n",
      "Epoch 28/100\n",
      "128/128 - 10s - loss: 0.2816 - val_loss: 0.2762\n",
      "Epoch 29/100\n",
      "128/128 - 10s - loss: 0.2790 - val_loss: 0.2737\n",
      "Epoch 30/100\n",
      "128/128 - 10s - loss: 0.2764 - val_loss: 0.2714\n",
      "Epoch 31/100\n",
      "128/128 - 10s - loss: 0.2741 - val_loss: 0.2693\n",
      "Epoch 32/100\n",
      "128/128 - 10s - loss: 0.2719 - val_loss: 0.2673\n",
      "Epoch 33/100\n",
      "128/128 - 10s - loss: 0.2698 - val_loss: 0.2655\n",
      "Epoch 34/100\n",
      "128/128 - 10s - loss: 0.2679 - val_loss: 0.2638\n",
      "Epoch 35/100\n",
      "128/128 - 10s - loss: 0.2664 - val_loss: 0.2622\n",
      "Epoch 36/100\n",
      "128/128 - 10s - loss: 0.2645 - val_loss: 0.2607\n",
      "Epoch 37/100\n",
      "128/128 - 10s - loss: 0.2629 - val_loss: 0.2592\n",
      "Epoch 38/100\n",
      "128/128 - 10s - loss: 0.2614 - val_loss: 0.2579\n",
      "Epoch 39/100\n",
      "128/128 - 10s - loss: 0.2600 - val_loss: 0.2565\n",
      "Epoch 40/100\n",
      "128/128 - 10s - loss: 0.2587 - val_loss: 0.2553\n",
      "Epoch 41/100\n",
      "128/128 - 10s - loss: 0.2574 - val_loss: 0.2540\n",
      "Epoch 42/100\n",
      "128/128 - 10s - loss: 0.2559 - val_loss: 0.2528\n",
      "Epoch 43/100\n",
      "128/128 - 10s - loss: 0.2547 - val_loss: 0.2517\n",
      "Epoch 44/100\n",
      "128/128 - 10s - loss: 0.2535 - val_loss: 0.2506\n",
      "Epoch 45/100\n",
      "128/128 - 10s - loss: 0.2525 - val_loss: 0.2495\n",
      "Epoch 46/100\n",
      "128/128 - 10s - loss: 0.2513 - val_loss: 0.2484\n",
      "Epoch 47/100\n",
      "128/128 - 10s - loss: 0.2502 - val_loss: 0.2474\n",
      "Epoch 48/100\n",
      "128/128 - 10s - loss: 0.2490 - val_loss: 0.2463\n",
      "Epoch 49/100\n",
      "128/128 - 10s - loss: 0.2480 - val_loss: 0.2453\n",
      "Epoch 50/100\n",
      "128/128 - 10s - loss: 0.2469 - val_loss: 0.2444\n",
      "Epoch 51/100\n",
      "128/128 - 10s - loss: 0.2459 - val_loss: 0.2434\n",
      "Epoch 52/100\n",
      "128/128 - 10s - loss: 0.2449 - val_loss: 0.2425\n",
      "Epoch 53/100\n",
      "128/128 - 10s - loss: 0.2437 - val_loss: 0.2415\n",
      "Epoch 54/100\n",
      "128/128 - 10s - loss: 0.2429 - val_loss: 0.2406\n",
      "Epoch 55/100\n",
      "128/128 - 10s - loss: 0.2422 - val_loss: 0.2397\n",
      "Epoch 56/100\n",
      "128/128 - 10s - loss: 0.2409 - val_loss: 0.2388\n",
      "Epoch 57/100\n",
      "128/128 - 10s - loss: 0.2400 - val_loss: 0.2379\n",
      "Epoch 58/100\n",
      "128/128 - 10s - loss: 0.2391 - val_loss: 0.2370\n",
      "Epoch 59/100\n",
      "128/128 - 10s - loss: 0.2383 - val_loss: 0.2362\n",
      "Epoch 60/100\n",
      "128/128 - 10s - loss: 0.2374 - val_loss: 0.2353\n",
      "Epoch 61/100\n",
      "128/128 - 10s - loss: 0.2365 - val_loss: 0.2345\n",
      "Epoch 62/100\n",
      "128/128 - 10s - loss: 0.2356 - val_loss: 0.2336\n",
      "Epoch 63/100\n",
      "128/128 - 10s - loss: 0.2347 - val_loss: 0.2328\n",
      "Epoch 64/100\n",
      "128/128 - 10s - loss: 0.2339 - val_loss: 0.2320\n",
      "Epoch 65/100\n",
      "128/128 - 10s - loss: 0.2331 - val_loss: 0.2312\n",
      "Epoch 66/100\n",
      "128/128 - 10s - loss: 0.2322 - val_loss: 0.2304\n",
      "Epoch 67/100\n",
      "128/128 - 10s - loss: 0.2316 - val_loss: 0.2296\n",
      "Epoch 68/100\n",
      "128/128 - 10s - loss: 0.2307 - val_loss: 0.2288\n",
      "Epoch 69/100\n",
      "128/128 - 10s - loss: 0.2299 - val_loss: 0.2281\n",
      "Epoch 70/100\n",
      "128/128 - 10s - loss: 0.2289 - val_loss: 0.2273\n",
      "Epoch 71/100\n",
      "128/128 - 10s - loss: 0.2282 - val_loss: 0.2265\n",
      "Epoch 72/100\n",
      "128/128 - 10s - loss: 0.2274 - val_loss: 0.2258\n",
      "Epoch 73/100\n",
      "128/128 - 10s - loss: 0.2265 - val_loss: 0.2250\n",
      "Epoch 74/100\n",
      "128/128 - 10s - loss: 0.2259 - val_loss: 0.2243\n",
      "Epoch 75/100\n",
      "128/128 - 10s - loss: 0.2250 - val_loss: 0.2235\n",
      "Epoch 76/100\n",
      "128/128 - 10s - loss: 0.2244 - val_loss: 0.2228\n",
      "Epoch 77/100\n",
      "128/128 - 10s - loss: 0.2235 - val_loss: 0.2221\n",
      "Epoch 78/100\n",
      "128/128 - 10s - loss: 0.2229 - val_loss: 0.2214\n",
      "Epoch 79/100\n",
      "128/128 - 10s - loss: 0.2222 - val_loss: 0.2207\n",
      "Epoch 80/100\n",
      "128/128 - 10s - loss: 0.2216 - val_loss: 0.2200\n",
      "Epoch 81/100\n",
      "128/128 - 10s - loss: 0.2206 - val_loss: 0.2193\n",
      "Epoch 82/100\n",
      "128/128 - 10s - loss: 0.2198 - val_loss: 0.2186\n",
      "Epoch 83/100\n",
      "128/128 - 10s - loss: 0.2194 - val_loss: 0.2179\n",
      "Epoch 84/100\n",
      "128/128 - 10s - loss: 0.2185 - val_loss: 0.2172\n",
      "Epoch 85/100\n",
      "128/128 - 10s - loss: 0.2177 - val_loss: 0.2166\n",
      "Epoch 86/100\n",
      "128/128 - 10s - loss: 0.2173 - val_loss: 0.2159\n",
      "Epoch 87/100\n",
      "128/128 - 10s - loss: 0.2165 - val_loss: 0.2152\n",
      "Epoch 88/100\n",
      "128/128 - 10s - loss: 0.2157 - val_loss: 0.2146\n",
      "Epoch 89/100\n",
      "128/128 - 10s - loss: 0.2151 - val_loss: 0.2139\n",
      "Epoch 90/100\n",
      "128/128 - 10s - loss: 0.2145 - val_loss: 0.2133\n",
      "Epoch 91/100\n",
      "128/128 - 10s - loss: 0.2139 - val_loss: 0.2126\n",
      "Epoch 92/100\n",
      "128/128 - 10s - loss: 0.2131 - val_loss: 0.2120\n",
      "Epoch 93/100\n",
      "128/128 - 10s - loss: 0.2125 - val_loss: 0.2114\n",
      "Epoch 94/100\n",
      "128/128 - 10s - loss: 0.2118 - val_loss: 0.2107\n",
      "Epoch 95/100\n",
      "128/128 - 10s - loss: 0.2113 - val_loss: 0.2101\n",
      "Epoch 96/100\n",
      "128/128 - 10s - loss: 0.2106 - val_loss: 0.2095\n",
      "Epoch 97/100\n",
      "128/128 - 10s - loss: 0.2098 - val_loss: 0.2089\n",
      "Epoch 98/100\n",
      "128/128 - 10s - loss: 0.2092 - val_loss: 0.2083\n",
      "Epoch 99/100\n",
      "128/128 - 10s - loss: 0.2087 - val_loss: 0.2077\n",
      "Epoch 100/100\n",
      "128/128 - 10s - loss: 0.2082 - val_loss: 0.2071\n"
     ]
    }
   ],
   "source": [
    "sequence_length = X_train.shape[1]\n",
    "filter_sizes = [3,4]\n",
    "num_filters = 100\n",
    "drop = 0.4\n",
    "\n",
    "inputs = Input(shape=(sequence_length,))\n",
    "embedding = embedding_layer(inputs)\n",
    "reshape = Reshape((sequence_length,EMBEDDING_DIM,1))(embedding)\n",
    "\n",
    "conv_0 = Conv2D(num_filters, (filter_sizes[0], EMBEDDING_DIM),activation='relu',kernel_regularizer=regularizers.l2(0.01))(reshape)\n",
    "conv_1 = Conv2D(num_filters, (filter_sizes[1], EMBEDDING_DIM),activation='relu',kernel_regularizer=regularizers.l2(0.01))(reshape)\n",
    "\n",
    "maxpool_0 = MaxPooling2D((sequence_length - filter_sizes[0] + 1, 1), strides=(1,1))(conv_0)\n",
    "maxpool_1 = MaxPooling2D((sequence_length - filter_sizes[1] + 1, 1), strides=(1,1))(conv_1)\n",
    "\n",
    "merged_tensor = concatenate([maxpool_0, maxpool_1], axis=1)\n",
    "flatten = Flatten()(merged_tensor)\n",
    "reshape = Reshape((2*num_filters,))(flatten)\n",
    "dropout = Dropout(drop)(flatten)\n",
    "conc = Dense(40)(dropout)\n",
    "output = Dense(units=6, activation='sigmoid',kernel_regularizer=regularizers.l2(0.01))(conc)\n",
    "\n",
    "# this creates a model that includes\n",
    "model = Model(inputs, output)\n",
    "\n",
    "# Compiling Model using optimizer\n",
    "opt = Adadelta()\n",
    "model.compile(loss='binary_crossentropy',optimizer=opt)\n",
    "# Fitting Model to the data\n",
    "callbacks = [EarlyStopping(monitor='val_loss')]\n",
    "hist_adad = model.fit(X_train, y_train, batch_size=1000, epochs=100, verbose=2, \n",
    "                      validation_data=(X_validation, y_validation),callbacks=callbacks)"
   ]
  },
  {
   "cell_type": "code",
   "execution_count": 20,
   "metadata": {
    "colab": {
     "base_uri": "https://localhost:8080/",
     "height": 330
    },
    "executionInfo": {
     "elapsed": 1475153,
     "status": "ok",
     "timestamp": 1607433531653,
     "user": {
      "displayName": "Ao Tang",
      "photoUrl": "https://lh3.googleusercontent.com/a-/AOh14Gh6bLyX1V4WDX9RjRii4yPitLCVcA5tLOwY9lI3Lw=s64",
      "userId": "09858036960530232019"
     },
     "user_tz": 480
    },
    "id": "gG62ioi13TFh",
    "outputId": "c2ff2503-70e7-437c-e97f-ccb68bc71b4d"
   },
   "outputs": [
    {
     "data": {
      "text/plain": [
       "<matplotlib.legend.Legend at 0x7f20dcdfb748>"
      ]
     },
     "execution_count": 20,
     "metadata": {
      "tags": []
     },
     "output_type": "execute_result"
    },
    {
     "data": {
      "image/png": "[encoded data removed]",
      "text/plain": [
       "<Figure size 432x288 with 1 Axes>"
      ]
     },
     "metadata": {
      "needs_background": "light",
      "tags": []
     },
     "output_type": "display_data"
    }
   ],
   "source": [
    "#plotting Loss\n",
    "plt.suptitle('Optimizer : Adadelta', fontsize=10)\n",
    "plt.ylabel('Loss', fontsize=16)\n",
    "plt.xlabel('Epoch', fontsize=14)\n",
    "#plt.ylim(0.05, 0.17)\n",
    "plt.plot(hist_adad.history['loss'], color='b', label='Training Loss')\n",
    "plt.plot(hist_adad.history['val_loss'], color='r', label='Validation Loss')\n",
    "plt.legend(loc='upper right')"
   ]
  },
  {
   "cell_type": "markdown",
   "metadata": {
    "id": "UsdPWjMf3Uu6"
   },
   "source": [
    "Predict on Test set\n",
    "---"
   ]
  },
  {
   "cell_type": "code",
   "execution_count": 21,
   "metadata": {
    "executionInfo": {
     "elapsed": 324,
     "status": "ok",
     "timestamp": 1607433531983,
     "user": {
      "displayName": "Ao Tang",
      "photoUrl": "https://lh3.googleusercontent.com/a-/AOh14Gh6bLyX1V4WDX9RjRii4yPitLCVcA5tLOwY9lI3Lw=s64",
      "userId": "09858036960530232019"
     },
     "user_tz": 480
    },
    "id": "j5FYC2Xt93Nu"
   },
   "outputs": [],
   "source": [
    "sequence_length = X_train.shape[1]\n",
    "filter_sizes = [3,4]\n",
    "num_filters = 100\n",
    "drop = 0.4\n",
    "\n",
    "inputs = Input(shape=(sequence_length,))\n",
    "embedding = embedding_layer(inputs)\n",
    "reshape = Reshape((sequence_length,EMBEDDING_DIM,1))(embedding)\n",
    "\n",
    "conv_0 = Conv2D(num_filters, (filter_sizes[0], EMBEDDING_DIM),activation='relu',kernel_regularizer=regularizers.l2(0.01))(reshape)\n",
    "conv_1 = Conv2D(num_filters, (filter_sizes[1], EMBEDDING_DIM),activation='relu',kernel_regularizer=regularizers.l2(0.01))(reshape)\n",
    "\n",
    "maxpool_0 = MaxPooling2D((sequence_length - filter_sizes[0] + 1, 1), strides=(1,1))(conv_0)\n",
    "maxpool_1 = MaxPooling2D((sequence_length - filter_sizes[1] + 1, 1), strides=(1,1))(conv_1)\n",
    "\n",
    "merged_tensor = concatenate([maxpool_0, maxpool_1], axis=1)\n",
    "flatten = Flatten()(merged_tensor)\n",
    "reshape = Reshape((2*num_filters,))(flatten)\n",
    "dropout = Dropout(drop)(flatten)\n",
    "conc = Dense(40)(dropout)\n",
    "output = Dense(units=6, activation='sigmoid',kernel_regularizer=regularizers.l2(0.01))(conc)\n",
    "\n",
    "# this creates a model that includes\n",
    "model = Model(inputs, output)"
   ]
  },
  {
   "cell_type": "code",
   "execution_count": 22,
   "metadata": {
    "colab": {
     "base_uri": "https://localhost:8080/"
    },
    "executionInfo": {
     "elapsed": 490518,
     "status": "ok",
     "timestamp": 1607434022193,
     "user": {
      "displayName": "Ao Tang",
      "photoUrl": "https://lh3.googleusercontent.com/a-/AOh14Gh6bLyX1V4WDX9RjRii4yPitLCVcA5tLOwY9lI3Lw=s64",
      "userId": "09858036960530232019"
     },
     "user_tz": 480
    },
    "id": "D7bT0mg03X4L",
    "outputId": "ef565aad-fda8-44dd-c15e-519ce492ed06"
   },
   "outputs": [
    {
     "name": "stdout",
     "output_type": "stream",
     "text": [
      "Epoch 1/50\n",
      "320/320 - 10s - loss: 0.1999 - val_loss: 0.1333\n",
      "Epoch 2/50\n",
      "320/320 - 10s - loss: 0.1143 - val_loss: 0.1025\n",
      "Epoch 3/50\n",
      "320/320 - 10s - loss: 0.0950 - val_loss: 0.0920\n",
      "Epoch 4/50\n",
      "320/320 - 10s - loss: 0.0877 - val_loss: 0.0874\n",
      "Epoch 5/50\n",
      "320/320 - 10s - loss: 0.0838 - val_loss: 0.0848\n",
      "Epoch 6/50\n",
      "320/320 - 10s - loss: 0.0816 - val_loss: 0.0830\n",
      "Epoch 7/50\n",
      "320/320 - 10s - loss: 0.0799 - val_loss: 0.0815\n",
      "Epoch 8/50\n",
      "320/320 - 10s - loss: 0.0784 - val_loss: 0.0805\n",
      "Epoch 9/50\n",
      "320/320 - 10s - loss: 0.0770 - val_loss: 0.0796\n",
      "Epoch 10/50\n",
      "320/320 - 10s - loss: 0.0762 - val_loss: 0.0789\n",
      "Epoch 11/50\n",
      "320/320 - 10s - loss: 0.0754 - val_loss: 0.0781\n",
      "Epoch 12/50\n",
      "320/320 - 10s - loss: 0.0746 - val_loss: 0.0774\n",
      "Epoch 13/50\n",
      "320/320 - 10s - loss: 0.0739 - val_loss: 0.0768\n",
      "Epoch 14/50\n",
      "320/320 - 10s - loss: 0.0732 - val_loss: 0.0763\n",
      "Epoch 15/50\n",
      "320/320 - 10s - loss: 0.0729 - val_loss: 0.0760\n",
      "Epoch 16/50\n",
      "320/320 - 10s - loss: 0.0723 - val_loss: 0.0754\n",
      "Epoch 17/50\n",
      "320/320 - 10s - loss: 0.0718 - val_loss: 0.0750\n",
      "Epoch 18/50\n",
      "320/320 - 10s - loss: 0.0713 - val_loss: 0.0747\n",
      "Epoch 19/50\n",
      "320/320 - 10s - loss: 0.0709 - val_loss: 0.0744\n",
      "Epoch 20/50\n",
      "320/320 - 10s - loss: 0.0705 - val_loss: 0.0741\n",
      "Epoch 21/50\n",
      "320/320 - 10s - loss: 0.0702 - val_loss: 0.0738\n",
      "Epoch 22/50\n",
      "320/320 - 10s - loss: 0.0698 - val_loss: 0.0734\n",
      "Epoch 23/50\n",
      "320/320 - 10s - loss: 0.0697 - val_loss: 0.0732\n",
      "Epoch 24/50\n",
      "320/320 - 10s - loss: 0.0694 - val_loss: 0.0730\n",
      "Epoch 25/50\n",
      "320/320 - 10s - loss: 0.0691 - val_loss: 0.0728\n",
      "Epoch 26/50\n",
      "320/320 - 10s - loss: 0.0689 - val_loss: 0.0726\n",
      "Epoch 27/50\n",
      "320/320 - 10s - loss: 0.0685 - val_loss: 0.0724\n",
      "Epoch 28/50\n",
      "320/320 - 10s - loss: 0.0684 - val_loss: 0.0722\n",
      "Epoch 29/50\n",
      "320/320 - 10s - loss: 0.0680 - val_loss: 0.0719\n",
      "Epoch 30/50\n",
      "320/320 - 10s - loss: 0.0679 - val_loss: 0.0718\n",
      "Epoch 31/50\n",
      "320/320 - 10s - loss: 0.0676 - val_loss: 0.0716\n",
      "Epoch 32/50\n",
      "320/320 - 10s - loss: 0.0677 - val_loss: 0.0715\n",
      "Epoch 33/50\n",
      "320/320 - 10s - loss: 0.0673 - val_loss: 0.0714\n",
      "Epoch 34/50\n",
      "320/320 - 10s - loss: 0.0672 - val_loss: 0.0713\n",
      "Epoch 35/50\n",
      "320/320 - 10s - loss: 0.0670 - val_loss: 0.0710\n",
      "Epoch 36/50\n",
      "320/320 - 10s - loss: 0.0670 - val_loss: 0.0709\n",
      "Epoch 37/50\n",
      "320/320 - 10s - loss: 0.0666 - val_loss: 0.0708\n",
      "Epoch 38/50\n",
      "320/320 - 10s - loss: 0.0666 - val_loss: 0.0707\n",
      "Epoch 39/50\n",
      "320/320 - 10s - loss: 0.0663 - val_loss: 0.0706\n",
      "Epoch 40/50\n",
      "320/320 - 10s - loss: 0.0664 - val_loss: 0.0704\n",
      "Epoch 41/50\n",
      "320/320 - 10s - loss: 0.0661 - val_loss: 0.0704\n",
      "Epoch 42/50\n",
      "320/320 - 10s - loss: 0.0662 - val_loss: 0.0703\n",
      "Epoch 43/50\n",
      "320/320 - 10s - loss: 0.0659 - val_loss: 0.0702\n",
      "Epoch 44/50\n",
      "320/320 - 10s - loss: 0.0659 - val_loss: 0.0701\n",
      "Epoch 45/50\n",
      "320/320 - 10s - loss: 0.0657 - val_loss: 0.0700\n",
      "Epoch 46/50\n",
      "320/320 - 10s - loss: 0.0658 - val_loss: 0.0699\n",
      "Epoch 47/50\n",
      "320/320 - 10s - loss: 0.0655 - val_loss: 0.0698\n",
      "Epoch 48/50\n",
      "320/320 - 10s - loss: 0.0653 - val_loss: 0.0698\n",
      "Epoch 49/50\n",
      "320/320 - 10s - loss: 0.0653 - val_loss: 0.0696\n",
      "Epoch 50/50\n",
      "320/320 - 10s - loss: 0.0654 - val_loss: 0.0696\n"
     ]
    }
   ],
   "source": [
    "# Compiling Model using optimizer\n",
    "opt = SGD(lr=0.01, momentum=0.9, decay=0.0001)\n",
    "model.compile(loss='binary_crossentropy',optimizer=opt)\n",
    "\n",
    "# Fitting Model to the data\n",
    "callbacks = [EarlyStopping(monitor='val_loss')]\n",
    "hist_sgd = model.fit(X_train, y_train, batch_size=400, epochs=50, verbose=2, \n",
    "                     validation_data=(X_validation, y_validation),callbacks=callbacks)"
   ]
  },
  {
   "cell_type": "code",
   "execution_count": 23,
   "metadata": {
    "executionInfo": {
     "elapsed": 501551,
     "status": "ok",
     "timestamp": 1607434033231,
     "user": {
      "displayName": "Ao Tang",
      "photoUrl": "https://lh3.googleusercontent.com/a-/AOh14Gh6bLyX1V4WDX9RjRii4yPitLCVcA5tLOwY9lI3Lw=s64",
      "userId": "09858036960530232019"
     },
     "user_tz": 480
    },
    "id": "rV7Uc6_q3cnK"
   },
   "outputs": [],
   "source": [
    "# convert test to sequence and padding the sequence\n",
    "sequences_test=tokenizer.texts_to_sequences(test['comment_text'])\n",
    "X_test = pad_sequences(sequences_test,maxlen=X_train.shape[1])\n",
    "\n",
    "# Predict on train, val and test datasets\n",
    "pred_train = model.predict(X_train)\n",
    "pred_test = model.predict(X_test)\n",
    "pred_val = model.predict(X_validation)"
   ]
  },
  {
   "cell_type": "code",
   "execution_count": 24,
   "metadata": {
    "executionInfo": {
     "elapsed": 504003,
     "status": "ok",
     "timestamp": 1607434035687,
     "user": {
      "displayName": "Ao Tang",
      "photoUrl": "https://lh3.googleusercontent.com/a-/AOh14Gh6bLyX1V4WDX9RjRii4yPitLCVcA5tLOwY9lI3Lw=s64",
      "userId": "09858036960530232019"
     },
     "user_tz": 480
    },
    "id": "Zb5Eghe53eDK"
   },
   "outputs": [],
   "source": [
    "#convert probabilities to labels with threshold 0.75\n",
    "for j in range(0,6):\n",
    "    temp = pred_train[:,j]\n",
    "    for i in range(0,len(temp)):\n",
    "        if temp[i] > 0.75:\n",
    "            pred_train[:,j][i] = 1\n",
    "        else: \n",
    "            pred_train[:,j][i] = 0\n",
    "    \n",
    "for j in range(0,6):\n",
    "    temp = pred_test[:,j]\n",
    "    for i in range(0,len(temp)):\n",
    "        if temp[i] > 0.75:\n",
    "            pred_test[:,j][i] = 1\n",
    "        else: \n",
    "            pred_test[:,j][i] = 0\n",
    "            \n",
    "for j in range(0,6):\n",
    "    temp = pred_val[:,j]\n",
    "    for i in range(0,len(temp)):\n",
    "        if temp[i] > 0.75:\n",
    "            pred_val[:,j][i] = 1\n",
    "        else: \n",
    "            pred_val[:,j][i] = 0"
   ]
  },
  {
   "cell_type": "code",
   "execution_count": 25,
   "metadata": {
    "colab": {
     "base_uri": "https://localhost:8080/"
    },
    "executionInfo": {
     "elapsed": 503998,
     "status": "ok",
     "timestamp": 1607434035690,
     "user": {
      "displayName": "Ao Tang",
      "photoUrl": "https://lh3.googleusercontent.com/a-/AOh14Gh6bLyX1V4WDX9RjRii4yPitLCVcA5tLOwY9lI3Lw=s64",
      "userId": "09858036960530232019"
     },
     "user_tz": 480
    },
    "id": "uAi4_RPj3etY",
    "outputId": "cac3086f-d451-4358-971a-89824e9b8341"
   },
   "outputs": [
    {
     "name": "stdout",
     "output_type": "stream",
     "text": [
      "toxic Train Accuracy: 0.9526070063295106 , Val Accuracy: 0.9522168259439135 , Test Accuracy: 0.9356341242302041\n",
      "severe_toxic Train Accuracy: 0.9901532242902801 , Val Accuracy: 0.9903806987310042 , Test Accuracy: 0.9942167620119416\n",
      "obscene Train Accuracy: 0.9742902801278436 , Val Accuracy: 0.9726147579508069 , Test Accuracy: 0.9641282941010972\n",
      "threat Train Accuracy: 0.996937080904932 , Val Accuracy: 0.9972740090866363 , Test Accuracy: 0.9967019913095126\n",
      "insult Train Accuracy: 0.9667465689039293 , Val Accuracy: 0.9657214475951746 , Test Accuracy: 0.9589859014036075\n",
      "identity_hate Train Accuracy: 0.9911402519270539 , Val Accuracy: 0.9913206955976813 , Test Accuracy: 0.9888242833474007\n",
      "Average Train Accuracy: 0.978645735413925 , Average Val Accuracy: 0.9782547391508696 , Average Test Accuracy: 0.9730818927339606\n"
     ]
    }
   ],
   "source": [
    "from sklearn import metrics\n",
    "# Creating empty prediction array\n",
    "col = ['toxic', 'severe_toxic', 'obscene', 'threat','insult', 'identity_hate']\n",
    "Accuracy = np.zeros((3,6))\n",
    "for i,x in enumerate(col):\n",
    "    acc = np.array([metrics.accuracy_score(y_train[:,i], pred_train[:,i]),\n",
    "                    metrics.accuracy_score(y_validation[:,i], pred_val[:,i]),\n",
    "                    metrics.accuracy_score(test_y[x], pred_test[:,i])])\n",
    "    print(x,\"Train Accuracy:\",acc[0],\", Val Accuracy:\",acc[1],\", Test Accuracy:\",acc[2])\n",
    "    Accuracy[:,i] = acc\n",
    "    \n",
    "avg_accuracy = Accuracy.mean(axis=1)\n",
    "print(\"Average Train Accuracy:\",avg_accuracy[0],\n",
    "      \", Average Val Accuracy:\",avg_accuracy[1],\n",
    "      \", Average Test Accuracy:\",avg_accuracy[2])"
   ]
  },
  {
   "cell_type": "code",
   "execution_count": null,
   "metadata": {
    "id": "2ZSmzXoN3e4W"
   },
   "outputs": [],
   "source": []
  }
 ],
 "metadata": {
  "accelerator": "GPU",
  "colab": {
   "authorship_tag": "ABX9TyN+friO1vXTlPhExrfwOeCF",
   "collapsed_sections": [],
   "name": "glove_CNN.ipynb",
   "provenance": []
  },
  "kernelspec": {
   "display_name": "Python 3",
   "language": "python",
   "name": "python3"
  },
  "language_info": {
   "codemirror_mode": {
    "name": "ipython",
    "version": 3
   },
   "file_extension": ".py",
   "mimetype": "text/x-python",
   "name": "python",
   "nbconvert_exporter": "python",
   "pygments_lexer": "ipython3",
   "version": "3.6.9"
  }
 },
 "nbformat": 4,
 "nbformat_minor": 1
}
