{
 "cells": [
  {
   "cell_type": "code",
   "execution_count": 1,
   "metadata": {},
   "outputs": [],
   "source": [
    "import numpy as np\n",
    "import pandas as pd\n",
    "import datetime\n",
    "from matplotlib import pyplot\n",
    "from sklearn import metrics\n",
    "from sklearn.model_selection import train_test_split\n",
    "from sklearn.naive_bayes import MultinomialNB\n",
    "from sklearn.feature_extraction.text import TfidfVectorizer"
   ]
  },
  {
   "cell_type": "code",
   "execution_count": 2,
   "metadata": {},
   "outputs": [],
   "source": [
    "train = pd.read_csv('processed_data/train_translated_cleaned.csv')\n",
    "test = pd.read_csv('processed_data/test_translated_cleaned.csv')\n",
    "test_y = pd.read_csv(\"processed_data/test_labels_cleaned.csv\")"
   ]
  },
  {
   "cell_type": "code",
   "execution_count": 3,
   "metadata": {},
   "outputs": [],
   "source": [
    "train['comment_text'] = train['comment_text'].apply(lambda x: np.str_(x))\n",
    "test['comment_text'] = test['comment_text'].apply(lambda x: np.str_(x))\n",
    "\n",
    "#split 20% of train as validation set\n",
    "X = train.iloc[:,1]\n",
    "y = train.iloc[:,2:]\n",
    "\n",
    "X_train, X_validation, y_train, y_validation = train_test_split(X, y, test_size=0.2, random_state=321)"
   ]
  },
  {
   "cell_type": "code",
   "execution_count": 4,
   "metadata": {},
   "outputs": [
    {
     "name": "stdout",
     "output_type": "stream",
     "text": [
      "<class 'pandas.core.frame.DataFrame'>\n",
      "RangeIndex: 63978 entries, 0 to 63977\n",
      "Data columns (total 2 columns):\n",
      " #   Column        Non-Null Count  Dtype \n",
      "---  ------        --------------  ----- \n",
      " 0   id            63978 non-null  object\n",
      " 1   comment_text  63978 non-null  object\n",
      "dtypes: object(2)\n",
      "memory usage: 999.8+ KB\n"
     ]
    }
   ],
   "source": [
    "test.info()"
   ]
  },
  {
   "cell_type": "code",
   "execution_count": 5,
   "metadata": {},
   "outputs": [],
   "source": [
    "#convert text to TFIDF\n",
    "tf_vec = TfidfVectorizer(decode_error='ignore',stop_words='english')\n",
    "train_tf = tf_vec.fit_transform(X_train)\n",
    "validation_tf = tf_vec.transform(X_validation)"
   ]
  },
  {
   "cell_type": "code",
   "execution_count": 6,
   "metadata": {},
   "outputs": [
    {
     "data": {
      "text/plain": [
       "136829"
      ]
     },
     "execution_count": 6,
     "metadata": {},
     "output_type": "execute_result"
    }
   ],
   "source": [
    "len(tf_vec.get_feature_names())"
   ]
  },
  {
   "cell_type": "code",
   "execution_count": 7,
   "metadata": {},
   "outputs": [
    {
     "name": "stdout",
     "output_type": "stream",
     "text": [
      "####Working on  toxic  ####\n",
      "####Working on  severe_toxic  ####\n",
      "####Working on  obscene  ####\n",
      "####Working on  threat  ####\n",
      "####Working on  insult  ####\n",
      "####Working on  identity_hate  ####\n"
     ]
    }
   ],
   "source": [
    "#train different model for each toxicity\n",
    "col = ['toxic', 'severe_toxic', 'obscene', 'threat','insult', 'identity_hate']\n",
    "# create empty array to contain predictions\n",
    "pred_validation = np.zeros((X_validation.shape[0],len(col)))\n",
    "nb = MultinomialNB()\n",
    "for i,x in enumerate(col):\n",
    "    print('####Working on ',x , ' ####')\n",
    "    nb.fit(train_tf, y_train[x])\n",
    "    pred_validation[:,i] = nb.predict(validation_tf)"
   ]
  },
  {
   "cell_type": "code",
   "execution_count": 8,
   "metadata": {},
   "outputs": [
    {
     "name": "stdout",
     "output_type": "stream",
     "text": [
      "toxic Accuracy Score on validation set: 0.9243929186902711\n",
      "severe_toxic Accuracy Score on validation set: 0.9897227009243302\n",
      "obscene Accuracy Score on validation set: 0.9552561491461695\n",
      "threat Accuracy Score on validation set: 0.9971173429421902\n",
      "insult Accuracy Score on validation set: 0.9526241579194736\n",
      "identity_hate Accuracy Score on validation set: 0.9906313645621181\n"
     ]
    }
   ],
   "source": [
    "for i,x in enumerate(col):\n",
    "    print(x,\"Accuracy Score on validation set:\",metrics.accuracy_score(y_validation[x], pred_validation[:,i]))"
   ]
  },
  {
   "cell_type": "code",
   "execution_count": 9,
   "metadata": {},
   "outputs": [
    {
     "name": "stdout",
     "output_type": "stream",
     "text": [
      "The best alpha value is  0.015  for  toxic ; The accuracy score is:  0.9472035093216356\n",
      "The best alpha value is  0.1  for  severe_toxic ; The accuracy score is:  0.9898167006109979\n",
      "The best alpha value is  0.015  for  obscene ; The accuracy score is:  0.9707660974463418\n",
      "The best alpha value is  0.015  for  threat ; The accuracy score is:  0.9971800093999686\n",
      "The best alpha value is  0.015  for  insult ; The accuracy score is:  0.9654081153062823\n",
      "The best alpha value is  0.015  for  identity_hate ; The accuracy score is:  0.9911953626821244\n"
     ]
    }
   ],
   "source": [
    "#Tuning parameter alpha\n",
    "alpha = [0.01, 0.015, 0.1, 0.5, 1]\n",
    "\n",
    "best_accuracy = 0\n",
    "best_alpha = 0\n",
    "\n",
    "col = ['toxic', 'severe_toxic', 'obscene', 'threat','insult', 'identity_hate']\n",
    "# create empty array to contain predictions\n",
    "pred_validation = np.zeros((X_validation.shape[0],len(col)))\n",
    "\n",
    "for i,x in enumerate(col):\n",
    "    for j in alpha:\n",
    "        nb = MultinomialNB(alpha = j)\n",
    "        nb.fit(train_tf, y_train[x])\n",
    "        pred_validation[:,i] = nb.predict(validation_tf)\n",
    "        temp = metrics.accuracy_score(y_validation[x], pred_validation[:,i])\n",
    "        if temp > best_accuracy:\n",
    "            best_accuracy = temp\n",
    "            best_alpha = j\n",
    "    print('The best alpha value is ', best_alpha, ' for ', x, '; The accuracy score is: ', best_accuracy)\n",
    "    best_alpha = 0\n",
    "    best_accuracy = 0"
   ]
  },
  {
   "cell_type": "markdown",
   "metadata": {},
   "source": [
    "From above results we can see the best alpha is 0.1 for toxic and obscene, 0.5 for severe_toxic, 0.01 for threat, 0.015 for insult and identity_hate."
   ]
  },
  {
   "cell_type": "code",
   "execution_count": 10,
   "metadata": {},
   "outputs": [
    {
     "name": "stdout",
     "output_type": "stream",
     "text": [
      "####Working on  toxic  ####\n",
      "####Working on  severe_toxic  ####\n",
      "####Working on  obscene  ####\n",
      "####Working on  threat  ####\n",
      "####Working on  insult  ####\n",
      "####Working on  identity_hate  ####\n"
     ]
    }
   ],
   "source": [
    "pred_test = np.zeros((test.shape[0],len(col)))\n",
    "col = ['toxic', 'severe_toxic', 'obscene', 'threat','insult', 'identity_hate']\n",
    "#create a array contain best parameter alpha\n",
    "best_alpha = [0.015, 0.1, 0.015, 0.015, 0.015, 0.015]\n",
    "\n",
    "#train_tf = tf_vec.fit_transform(train['comment_text'])\n",
    "test_tf = tf_vec.transform(test['comment_text'])\n",
    "\n",
    "\n",
    "#log start time\n",
    "starttime = datetime.datetime.now()\n",
    "\n",
    "for i,x in enumerate(col):\n",
    "    print('####Working on ',x , ' ####')\n",
    "    nb = MultinomialNB(alpha = best_alpha[i])\n",
    "    nb.fit(train_tf, y_train[x])\n",
    "    pred_test[:,i] = nb.predict(test_tf)\n",
    "\n",
    "#log end time\n",
    "endtime = datetime.datetime.now()"
   ]
  },
  {
   "cell_type": "code",
   "execution_count": 11,
   "metadata": {},
   "outputs": [
    {
     "name": "stdout",
     "output_type": "stream",
     "text": [
      "toxic Accuracy Score on Test: 0.9302572759386039\n",
      "severe_toxic Accuracy Score on Test: 0.99306011441433\n",
      "obscene Accuracy Score on Test: 0.9595642252024134\n",
      "threat Accuracy Score on Test: 0.9959361030354185\n",
      "insult Accuracy Score on Test: 0.9571102566507237\n",
      "identity_hate Accuracy Score on Test: 0.9889024352121042\n",
      "Total training time:  0:00:00.518223\n"
     ]
    }
   ],
   "source": [
    "#results\n",
    "for i,x in enumerate(col):\n",
    "    print(x,\"Accuracy Score on Test:\",metrics.accuracy_score(test_y[x], pred_test[:,i]))\n",
    "print('Total training time: ' , endtime - starttime)"
   ]
  },
  {
   "cell_type": "code",
   "execution_count": 12,
   "metadata": {},
   "outputs": [
    {
     "name": "stdout",
     "output_type": "stream",
     "text": [
      "The average score for six toxicities is:  0.9708\n"
     ]
    }
   ],
   "source": [
    "total_score = 0\n",
    "for i,x in enumerate(col):\n",
    "    score = metrics.accuracy_score(test_y[x], pred_test[:,i])\n",
    "    total_score= total_score + score\n",
    "print('The average score for six toxicities is: ', round(total_score/6 , 4) )"
   ]
  },
  {
   "cell_type": "code",
   "execution_count": null,
   "metadata": {},
   "outputs": [],
   "source": []
  }
 ],
 "metadata": {
  "kernelspec": {
   "display_name": "Python 3",
   "language": "python",
   "name": "python3"
  },
  "language_info": {
   "codemirror_mode": {
    "name": "ipython",
    "version": 3
   },
   "file_extension": ".py",
   "mimetype": "text/x-python",
   "name": "python",
   "nbconvert_exporter": "python",
   "pygments_lexer": "ipython3",
   "version": "3.6.9"
  }
 },
 "nbformat": 4,
 "nbformat_minor": 4
}
