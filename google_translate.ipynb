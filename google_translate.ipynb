{
 "cells": [
  {
   "cell_type": "code",
   "execution_count": 1,
   "metadata": {},
   "outputs": [],
   "source": [
    "import os\n",
    "import pandas as pd\n",
    "from googletrans import Translator"
   ]
  },
  {
   "cell_type": "code",
   "execution_count": 2,
   "metadata": {},
   "outputs": [],
   "source": [
    "text = pd.read_csv('original_data/train.csv')\n",
    "\n",
    "translator = Translator()\n",
    "for i,t in enumerate(text.comment_text[1:10]):\n",
    "    try:\n",
    "        encoded = translator.translate(t, dest='fr').text\n",
    "        decoded = translator.translate(encoded, dest='en').text\n",
    "        print(f\"\\nSet {i}\\n\"\n",
    "              f\"Original: {t}\\n\\n\"\n",
    "              f\"Decoded: {decoded}\\n\")\n",
    "    except: pass"
   ]
  },
  {
   "cell_type": "code",
   "execution_count": null,
   "metadata": {},
   "outputs": [],
   "source": [
    "text = pd.read_csv('original_data/train.csv')\n",
    "translated_comments = []\n",
    "\n",
    "translator = Translator()\n",
    "for i,t in enumerate(text.comment_text):\n",
    "    try:\n",
    "        encoded = translator.translate(t, dest='fr').text\n",
    "        decoded = translator.translate(encoded, dest='en').text\n",
    "        translated_comments.append(decoded)\n",
    "    except: \n",
    "        translated_comments.append(t)\n",
    "        pass"
   ]
  },
  {
   "cell_type": "code",
   "execution_count": null,
   "metadata": {},
   "outputs": [],
   "source": [
    "translated_train = pd.read_csv('original_data/train.csv')\n",
    "translated_train['comment_text'] = translated_comments\n",
    "translated_train.to_csv('processed_data/train_translated.csv',index=None)"
   ]
  },
  {
   "cell_type": "code",
   "execution_count": null,
   "metadata": {},
   "outputs": [],
   "source": []
  }
 ],
 "metadata": {
  "kernelspec": {
   "display_name": "Python 3",
   "language": "python",
   "name": "python3"
  },
  "language_info": {
   "codemirror_mode": {
    "name": "ipython",
    "version": 3
   },
   "file_extension": ".py",
   "mimetype": "text/x-python",
   "name": "python",
   "nbconvert_exporter": "python",
   "pygments_lexer": "ipython3",
   "version": "3.6.9"
  }
 },
 "nbformat": 4,
 "nbformat_minor": 4
}
